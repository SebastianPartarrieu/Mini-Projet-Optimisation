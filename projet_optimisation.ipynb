{
 "cells": [
  {
   "cell_type": "markdown",
   "metadata": {},
   "source": [
    "# Projet d'optimisation : chauffage d'un bâtiment résidentiel\n",
    "#### *Sebastian Partarrieu & Clement Desroches*"
   ]
  },
  {
   "cell_type": "markdown",
   "metadata": {},
   "source": [
    "# 1. Modélisation"
   ]
  },
  {
   "cell_type": "markdown",
   "metadata": {},
   "source": [
    "### Question 1"
   ]
  },
  {
   "cell_type": "markdown",
   "metadata": {},
   "source": [
    "En premier lieu, on cherche à effectuer un modèle plausible compte tenu des données fournies.\n",
    "Pour ce modèle, nous allons faire directement plusieurs hypothèses: \n",
    "- le chauffage est exclusivement électrique, c'est justifié ces dernières années \n",
    "- on suppose que l'énergie utilisée par la maison est exclusivement dûe au chauffage (c'est ce qu'on cherche à minimiser). Rajouter des sources de consommation d'énergies externes ne nous intéresse pas ici."
   ]
  },
  {
   "cell_type": "markdown",
   "metadata": {},
   "source": [
    "Ainsi la fonction à minimiser reste la facture d'électricité. On note $E_p$ ($E_c$) l'énergie consommée par la maison en heure pleine (creuse), $t_p$ ($t_c$) le tarif en heures pleines (creuses). On note M le montant à payer pour la consommation d'électricité.\n",
    "\n",
    "Alors:\n",
    "<center> $M = E_c * t_c + E_p * t_p \\tag{1}$ </center>  est la quantité que l'on sera amené à minimiser dans la deuxième partie de ce projet."
   ]
  },
  {
   "cell_type": "markdown",
   "metadata": {},
   "source": [
    "### Question 2"
   ]
  },
  {
   "cell_type": "markdown",
   "metadata": {},
   "source": [
    "Nous allons essayer de proposer un modèle de la température intérieure de la maison. Tout d'abord l'on suppose que la maison a la forme d'un cube.\n",
    "\n",
    "Les différentes sources de transferts thermiques sont :\n",
    "- le chauffage intérieur qui fournit une puissance $p_c(t)$\n",
    "- perte thermique à travers les murs que l'on caractérise par une perte de transfert thermique qu'on caractérise par un coefficient de perte $a$ qui sera déterminé par la suite.\n",
    "    Si l'on suppose que la maison est un cube de coté l, et les murs sont d'épaisseur $e_{mur}$ et le plafond $e_p$.\n",
    "    Pour un mur on obtient (On néglige la convection à l'intérieur de la maison) $R_{eq/mur} = \\frac{1}{h*S_{mur}} + \\frac{e_{mur}}{\\lambda_{mur} * S_{mur}}$\n",
    "    \n",
    "    Donc pour 4 murs (en parallèles) : $ R_{eq/ 4murs} = \\frac{R_{eq/mur}}{4}$    \n",
    "    \n",
    "    Pour le plafond : $R_{eq/p} = \\frac{1}{h*S_{p}} + \\frac{e_{p}}{\\lambda_p * S_{p}}$\n",
    "    \n",
    "    Donc pour la maison en global : $R_{eq/ maison} = (\\frac{1}{R_{eq/p}} + \\frac{1}{R_{eq/4murs}})^{-1}$\n",
    "    \n",
    "    Alors on obtient $a = \\frac{1}{R_{eq/maison}}$\n",
    "    \n",
    "- rayonnement thermique : \n",
    "    $I_s(t) * S_{maison} * b$ (b étant le coefficient d'atténuation et en fonction de la géométrie, moyenné sur les quatres murs et le toit, $S_{maison}$ la surface extérieure de la maison et $I_s(t)$ le flux solaire moyenné sur les quatres murs et le toit) qui dépend de l'heure de la journée et donc du temps.\n",
    "    Détaillons le coefficient b : il serait la multiplication de deux facteurs : le coefficient d'atténuation dûe aux nuages et autres atténuations du rayonnement (dur à quantifier) et du facteur de forme dépendant de la géométrie de la maison. \n",
    "- On ne considère pas d'éventuels échanges avec le sol, ni de production de chaleur à l'intérieur de la maison par les habitants ou d'autres équipements électriques. On considère donc une maison vide parfaitement isolé du sol.\n",
    "    \n",
    "    \n",
    "   \n",
    "Finalement l'équation qui régit la dynamique de température de l'air à l'intérieur de la maison est: \n",
    "       <center> $C_{air}*\\frac{\\partial{T_{int}(t)}}{\\partial{t}} = a*(T_{ext}(t)-T_{int}(t)) + p_c(t) + I_s(t) * S * b \\tag{2}$    </center>"
   ]
  },
  {
   "cell_type": "markdown",
   "metadata": {},
   "source": [
    "### Question 3"
   ]
  },
  {
   "cell_type": "markdown",
   "metadata": {},
   "source": [
    "Avant de discrétiser la dynamique mis en place précedemment on représente les données fournies pour pouvoir ensuite identifier les paramètres adéquats de la modélisation précédente. "
   ]
  },
  {
   "cell_type": "code",
   "execution_count": 1,
   "metadata": {},
   "outputs": [],
   "source": [
    "import numpy as np\n",
    "import matplotlib.pyplot as plt\n",
    "import scipy.optimize\n",
    "import pandas as pd"
   ]
  },
  {
   "cell_type": "code",
   "execution_count": 2,
   "metadata": {},
   "outputs": [
    {
     "data": {
      "image/png": "[encoded data removed]",
      "text/plain": [
       "<Figure size 432x288 with 1 Axes>"
      ]
     },
     "metadata": {
      "needs_background": "light"
     },
     "output_type": "display_data"
    }
   ],
   "source": [
    "#visualisation de données\n",
    "df = pd.read_csv('donnees-projet-gr4.txt', header = None,  delimiter='\\t')\n",
    "X, Y1, Y2, Y3 = np.array(df[0]), np.array(df[1]), np.array(df[2]), np.array(df[3])\n",
    "plt.xlabel('temps (heures)')\n",
    "plt.plot(X, Y1, c='r', label = 'Température int (°C)')\n",
    "plt.plot(X, Y2, c='b', label = 'Flux solaire (W/m^2)')\n",
    "plt.plot(X, Y3, c='g', label = 'Température ext(°C)')\n",
    "plt.legend(loc='upper left')\n",
    "plt.show()"
   ]
  },
  {
   "cell_type": "markdown",
   "metadata": {},
   "source": [
    "On voit directement que la température à l'intérieur de la maison reste constante au cours du temps, sans chauffage a priori ce qui nous amènera à éliminer le terme $p_c(t)$ dans l'équation (2) . On sera amené à changer la température extérieure et le niveau de confort demandé à l'intérieur (température intérieure) plus tard dans le sujet.  \n"
   ]
  },
  {
   "cell_type": "markdown",
   "metadata": {},
   "source": [
    "Pour l'instant, reprennons l'équation décrite précedemment sans terme de chauffage, $C_{air}*\\frac{\\partial{T_{int}(t)}}{\\partial{t}} = a*(T_{ext}(t)-T_{int}(t)) + I_s(t) * S * b$. On connaît $C_{air} = c_{air}V_{maison}$ avec $c_{air} = 1,256  kJ.m^{-3}.K^{-1}$ la capacité thermique volumique de l'air. On connaît l'évolution de $T_{int}$, $T_{ext}$ et $I_s(t)$. Il s'agit donc d'estimer et identifier les paramètres $S_{maison}$, $a$ et $b$. Sachant que b peut être déduit de notre choix de modélisation de la maison comme cube..."
   ]
  },
  {
   "cell_type": "code",
   "execution_count": null,
   "metadata": {},
   "outputs": [],
   "source": []
  },
  {
   "cell_type": "code",
   "execution_count": null,
   "metadata": {},
   "outputs": [],
   "source": []
  }
 ],
 "metadata": {
  "kernelspec": {
   "display_name": "Python 3",
   "language": "python",
   "name": "python3"
  },
  "language_info": {
   "codemirror_mode": {
    "name": "ipython",
    "version": 3
   },
   "file_extension": ".py",
   "mimetype": "text/x-python",
   "name": "python",
   "nbconvert_exporter": "python",
   "pygments_lexer": "ipython3",
   "version": "3.7.3"
  }
 },
 "nbformat": 4,
 "nbformat_minor": 2
}
